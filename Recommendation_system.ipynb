{
  "nbformat": 4,
  "nbformat_minor": 0,
  "metadata": {
    "colab": {
      "name": "Recommendation system ",
      "provenance": [],
      "collapsed_sections": [],
      "toc_visible": true,
      "mount_file_id": "1IDfHy8T8CdKtbirZWIlMMWk5xfB4_rQ7",
      "authorship_tag": "ABX9TyPziAKbtrNe+sdxA2MUFwo0",
      "include_colab_link": true
    },
    "kernelspec": {
      "name": "python3",
      "display_name": "Python 3"
    },
    "language_info": {
      "name": "python"
    }
  },
  "cells": [
    {
      "cell_type": "markdown",
      "metadata": {
        "id": "view-in-github",
        "colab_type": "text"
      },
      "source": [
        "<a href=\"https://colab.research.google.com/github/yeswanthraj007/Recommendation-system-collaborative-filtering-/blob/main/Recommendation_system.ipynb\" target=\"_parent\"><img src=\"https://colab.research.google.com/assets/colab-badge.svg\" alt=\"Open In Colab\"/></a>"
      ]
    },
    {
      "cell_type": "code",
      "metadata": {
        "id": "lxgEyoj2iAi1"
      },
      "source": [
        "# Run this to upload files from the desktop \"Remove the three apostrophes before running the code.\"\n",
        "'''from google.colab import files\n",
        "uploaded = files.upload()'''\n",
        "# Run this for installing turicate library since its not been installed in the colab initially.\n",
        "!apt install libnvrtc8.0\n",
        "!pip uninstall -y mxnet-cu80 && pip install mxnet-cu80==1.1.0\n",
        "!pip install turicreate\n"
      ],
      "execution_count": null,
      "outputs": []
    },
    {
      "cell_type": "code",
      "metadata": {
        "colab": {
          "base_uri": "https://localhost:8080/"
        },
        "id": "EOTYfYRbDmZJ",
        "outputId": "ac751fd0-42e4-4e5e-9054-ee5ebd8d17ec"
      },
      "source": [
        "\n",
        "# Importing necessary libraries\n",
        "import pandas as pd\n",
        "import numpy as np\n",
        "import turicreate\n",
        "from sklearn.model_selection import train_test_split\n",
        "from sklearn.metrics.pairwise import pairwise_distances \n",
        "# Reading the file\n",
        "i_cols = ['user_id', 'post_id', 'timestamp']\n",
        "views = pd.read_csv('/content/views.csv')\n",
        "\n",
        "u_cols = ['_id', 'name', 'gender', 'academics']\n",
        "users = pd.read_csv(\"/content/users.csv\",)\n",
        "\n",
        "\n",
        "r_cols = ['_id', 'title', 'category', 'post_type']\n",
        "posts = pd.read_csv('/content/posts.csv')\n",
        "# After loading the dataset, we should look at the content of each file (users, ratings, items).\n",
        "\n",
        "# Looking at the user file\n",
        "print(\"\\nUsers Data :\")\n",
        "print(\"shape : \", users.shape)\n",
        "print(users.head())\n",
        "\n",
        "# We have 943 users in the dataset and each user has 5 features, i.e. user_ID, age, sex, occupation and zip_code. Now let’s look at the ratings file.\n",
        "\n",
        "# Posts Data\n",
        "print(\"\\nPosts Data :\")\n",
        "print(\"shape : \", posts.shape)\n",
        "print(posts.head())\n",
        "\n",
        "# We have 100k ratings for different user and movie combinations. Now finally examine the items file.\n",
        "\n",
        "# Views Data\n",
        "print(\"\\nViews Data :\")\n",
        "print(\"shape : \", views.shape)\n",
        "print(views.head())\n"
      ],
      "execution_count": 15,
      "outputs": [
        {
          "output_type": "stream",
          "text": [
            "\n",
            "Users Data :\n",
            "shape :  (118, 4)\n",
            "                        _id                  name gender      academics\n",
            "0  5d60098a653a331687083238  Nivesh Singh Chauhan   male  undergraduate\n",
            "1  5d610ae1653a331687083239         Gaurav Sharma   male       graduate\n",
            "2  5d618359fc5fcf3bdd9a0910         Akshay Mishra   male  undergraduate\n",
            "3  5d6d2bb87fa40e1417a49315        Saksham Mathur   male  undergraduate\n",
            "4  5d7c994d5720533e15c3b1e9         Varun Chowhan   male  undergraduate\n",
            "\n",
            "Posts Data :\n",
            "shape :  (493, 4)\n",
            "                        _id  ...  post_type\n",
            "0  5d62abaa65218653a132c956  ...       blog\n",
            "1  5d6d39567fa40e1417a4931c  ...       blog\n",
            "2  5d7d23315720533e15c3b1ee  ...       blog\n",
            "3  5d7d405e5720533e15c3b1f3  ...    artwork\n",
            "4  5d80dfbc6c53455f896e600e  ...       blog\n",
            "\n",
            "[5 rows x 4 columns]\n",
            "\n",
            "Views Data :\n",
            "shape :  (1449, 3)\n",
            "                    user_id                   post_id                 timestamp\n",
            "0  5df49b32cc709107827fb3c7  5ec821ddec493f4a2655889e  2020-06-01T10:46:45.131Z\n",
            "1  5ed3748576027d35905ccaab  5ed4cbadbd514d602c1531a6  2020-06-01T09:39:20.021Z\n",
            "2  5ed0defa76027d35905cc2de  5eac305f10426255a7aa9dd3  2020-06-01T08:12:42.682Z\n",
            "3  5ed0defa76027d35905cc2de  5ed1ff0276027d35905cc60d  2020-06-01T08:10:23.880Z\n",
            "4  5ed0defa76027d35905cc2de  5ed3820f76027d35905ccac8  2020-06-01T08:08:54.124Z\n"
          ],
          "name": "stdout"
        }
      ]
    },
    {
      "cell_type": "code",
      "metadata": {
        "colab": {
          "base_uri": "https://localhost:8080/",
          "height": 70
        },
        "id": "KspxWm46KLVL",
        "outputId": "438e9386-9c3a-4541-bd3f-c21434837de2"
      },
      "source": [
        "# We can try splitting data in this way alternatively.\n",
        "'''#split into inputs and outputs\n",
        "data = views.values\n",
        "X = data[:, :-1]\n",
        "y = data[-1:, :]\n",
        "print(\"\\n The split out input and output elements are: \", X.shape, y.shape)\n",
        "# split into train test sets\n",
        "\n",
        "X_train, X_test = train_test_split(X, test_size=0.33, random_state=1)\n",
        "print(\"\\n The elements sorted out into train and test sets are: \", X_train.shape, X_test.shape)'''"
      ],
      "execution_count": null,
      "outputs": [
        {
          "output_type": "execute_result",
          "data": {
            "application/vnd.google.colaboratory.intrinsic+json": {
              "type": "string"
            },
            "text/plain": [
              "'#split into inputs and outputs\\ndata = views.values\\nX = data[:, :-1]\\ny = data[-1:, :]\\nprint(\"\\n The split out input and output elements are: \", X.shape, y.shape)\\n# split into train test sets\\n\\nX_train, X_test = train_test_split(X, test_size=0.33, random_state=1)\\nprint(\"\\n The elements sorted out into train and test sets are: \", X_train.shape, X_test.shape)'"
            ]
          },
          "metadata": {
            "tags": []
          },
          "execution_count": 105
        }
      ]
    },
    {
      "cell_type": "code",
      "metadata": {
        "colab": {
          "base_uri": "https://localhost:8080/"
        },
        "id": "_x1j8sEWMmmu",
        "outputId": "930e1780-70ed-4dfe-b0e2-3f38ec2d0c20"
      },
      "source": [
        "# Splitting of data into train and test set.Generally we have to take 80% for training and 20% for testing.\n",
        "i_cols = ['user_id', 'post_id', 'timestamp']\n",
        "views_train = pd.read_csv('/content/views.csv')\n",
        "views_test = pd.read_csv('/content/views.csv')\n",
        "views_train.shape, views_test.shape\n",
        "\n",
        "#This following snippets prints the number of unique\n",
        "n_users = views.user_id.unique().shape[0]\n",
        "n_posts = views.post_id.unique().shape[0]\n",
        "\n",
        "print(\"\\n Number of unique users are: \",n_users)\n",
        "print(\"\\n Number of unique views are: \",n_posts)\n",
        "\n",
        "#views.drop(['timestamp'], axis=1,inplace=True)---> we can do this if we want to as the timestamp is redundant in this recommendation engine"
      ],
      "execution_count": 17,
      "outputs": [
        {
          "output_type": "stream",
          "text": [
            "\n",
            " Number of unique users are:  118\n",
            "\n",
            " Number of unique views are:  495\n"
          ],
          "name": "stdout"
        }
      ]
    },
    {
      "cell_type": "code",
      "metadata": {
        "id": "61csPeRPZ0-u"
      },
      "source": [
        "#This is similairty matrix which finds akin data in the given data sets.\n",
        "data_matrix = np.zeros((n_users, n_posts))\n",
        "for line in views.itertuples():\n",
        "    data_matrix[line[1]-1, line[2]-1] = line[3]"
      ],
      "execution_count": null,
      "outputs": []
    },
    {
      "cell_type": "code",
      "metadata": {
        "colab": {
          "base_uri": "https://localhost:8080/"
        },
        "id": "Y50CVrkPMiXu",
        "outputId": "2bc2935f-568d-46b6-fc10-251bde06b61d"
      },
      "source": [
        "# This cell prints the similarity matrices of the users and posts data provided using cosine similairty \n",
        "#cosine similairty would be the perfect one for this engine.\n",
        "user_similarity = pairwise_distances(data_matrix, metric='cosine')\n",
        "post_similarity = pairwise_distances(data_matrix.T, metric='cosine')\n",
        "\n",
        "print(\"The user similarity is: \\n\",user_similarity)\n",
        "print(\"\\nThe view similarity is: \\n\",post_similarity)"
      ],
      "execution_count": 19,
      "outputs": [
        {
          "output_type": "stream",
          "text": [
            "The user similarity is: \n",
            " [[0. 1. 1. ... 1. 1. 1.]\n",
            " [1. 0. 1. ... 1. 1. 1.]\n",
            " [1. 1. 0. ... 1. 1. 1.]\n",
            " ...\n",
            " [1. 1. 1. ... 0. 1. 1.]\n",
            " [1. 1. 1. ... 1. 0. 1.]\n",
            " [1. 1. 1. ... 1. 1. 0.]]\n",
            "\n",
            "The view similarity is: \n",
            " [[0. 1. 1. ... 1. 1. 1.]\n",
            " [1. 0. 1. ... 1. 1. 1.]\n",
            " [1. 1. 0. ... 1. 1. 1.]\n",
            " ...\n",
            " [1. 1. 1. ... 0. 1. 1.]\n",
            " [1. 1. 1. ... 1. 0. 1.]\n",
            " [1. 1. 1. ... 1. 1. 0.]]\n"
          ],
          "name": "stdout"
        }
      ]
    },
    {
      "cell_type": "code",
      "metadata": {
        "id": "BUDKUmrHM9kf"
      },
      "source": [
        "# The following code does predcitions based on the similarities gauged in the above cell.\n",
        "def predict(views, similarity, type='users'):\n",
        "    if type == 'users':\n",
        "        mean_user_views = views.mean(axis=1)\n",
        "#We use np.newaxis so that mean_user_rating has same format as views\n",
        "        views_diff = (views - mean_user_views[:, np.newaxis])\n",
        "        pred = mean_user_views[:, np.newaxis] + similarity.dot(views_diff) / np.array([np.abs(similarity).sum(axis=1)]).T\n",
        "    elif type == 'posts':\n",
        "        pred = views.dot(similarity) / np.array([np.abs(similarity).sum(axis=1)])\n",
        "        return pred\n",
        "    \n",
        "user_prediction = predict(data_matrix, user_similarity, type='users')\n",
        "post_prediction = predict(data_matrix, post_similarity, type='posts')"
      ],
      "execution_count": 20,
      "outputs": []
    },
    {
      "cell_type": "code",
      "metadata": {
        "colab": {
          "base_uri": "https://localhost:8080/",
          "height": 1000
        },
        "id": "h4IHz88kNC8s",
        "outputId": "cbfdb793-3e37-40a6-b020-fa054d2ddb12"
      },
      "source": [
        "train_data = turicreate.SFrame(views_train)\n",
        "test_data = turicreate.SFrame(views_test)\n",
        "\n",
        "#Training the machine with the train data which is defined just above this comment.\n",
        "item_sim_model = turicreate.item_similarity_recommender.create(train_data, user_id='user_id', item_id='post_id', target='', similarity_type='cosine')\n",
        "\n",
        "# Now the machine recommends ten posts each for the first ten users as we have mentioned users = 10 and k = 10.\n",
        "# we can change these values to check the for the entire data which would consume more time.\n",
        "item_sim_recomm = item_sim_model.recommend(users=[1,2,3,4,5,6,7,8,9,10],k=10)\n",
        "item_sim_recomm.print_rows(num_rows=50)"
      ],
      "execution_count": 21,
      "outputs": [
        {
          "output_type": "display_data",
          "data": {
            "text/html": [
              "<pre>Warning: Ignoring columns timestamp;</pre>"
            ],
            "text/plain": [
              "Warning: Ignoring columns timestamp;"
            ]
          },
          "metadata": {
            "tags": []
          }
        },
        {
          "output_type": "display_data",
          "data": {
            "text/html": [
              "<pre> To use one of these as a rating column, specify the column name to be used as target</pre>"
            ],
            "text/plain": [
              " To use one of these as a rating column, specify the column name to be used as target"
            ]
          },
          "metadata": {
            "tags": []
          }
        },
        {
          "output_type": "display_data",
          "data": {
            "text/html": [
              "<pre>    and use a method that allows the use of a target.</pre>"
            ],
            "text/plain": [
              "    and use a method that allows the use of a target."
            ]
          },
          "metadata": {
            "tags": []
          }
        },
        {
          "output_type": "display_data",
          "data": {
            "text/html": [
              "<pre>Preparing data set.</pre>"
            ],
            "text/plain": [
              "Preparing data set."
            ]
          },
          "metadata": {
            "tags": []
          }
        },
        {
          "output_type": "display_data",
          "data": {
            "text/html": [
              "<pre>    Data has 1449 observations with 118 users and 495 items.</pre>"
            ],
            "text/plain": [
              "    Data has 1449 observations with 118 users and 495 items."
            ]
          },
          "metadata": {
            "tags": []
          }
        },
        {
          "output_type": "display_data",
          "data": {
            "text/html": [
              "<pre>    Data prepared in: 0.007507s</pre>"
            ],
            "text/plain": [
              "    Data prepared in: 0.007507s"
            ]
          },
          "metadata": {
            "tags": []
          }
        },
        {
          "output_type": "display_data",
          "data": {
            "text/html": [
              "<pre>Training model from provided data.</pre>"
            ],
            "text/plain": [
              "Training model from provided data."
            ]
          },
          "metadata": {
            "tags": []
          }
        },
        {
          "output_type": "display_data",
          "data": {
            "text/html": [
              "<pre>Gathering per-item and per-user statistics.</pre>"
            ],
            "text/plain": [
              "Gathering per-item and per-user statistics."
            ]
          },
          "metadata": {
            "tags": []
          }
        },
        {
          "output_type": "display_data",
          "data": {
            "text/html": [
              "<pre>+--------------------------------+------------+</pre>"
            ],
            "text/plain": [
              "+--------------------------------+------------+"
            ]
          },
          "metadata": {
            "tags": []
          }
        },
        {
          "output_type": "display_data",
          "data": {
            "text/html": [
              "<pre>| Elapsed Time (Item Statistics) | % Complete |</pre>"
            ],
            "text/plain": [
              "| Elapsed Time (Item Statistics) | % Complete |"
            ]
          },
          "metadata": {
            "tags": []
          }
        },
        {
          "output_type": "display_data",
          "data": {
            "text/html": [
              "<pre>+--------------------------------+------------+</pre>"
            ],
            "text/plain": [
              "+--------------------------------+------------+"
            ]
          },
          "metadata": {
            "tags": []
          }
        },
        {
          "output_type": "display_data",
          "data": {
            "text/html": [
              "<pre>| 551us                          | 100        |</pre>"
            ],
            "text/plain": [
              "| 551us                          | 100        |"
            ]
          },
          "metadata": {
            "tags": []
          }
        },
        {
          "output_type": "display_data",
          "data": {
            "text/html": [
              "<pre>+--------------------------------+------------+</pre>"
            ],
            "text/plain": [
              "+--------------------------------+------------+"
            ]
          },
          "metadata": {
            "tags": []
          }
        },
        {
          "output_type": "display_data",
          "data": {
            "text/html": [
              "<pre>Setting up lookup tables.</pre>"
            ],
            "text/plain": [
              "Setting up lookup tables."
            ]
          },
          "metadata": {
            "tags": []
          }
        },
        {
          "output_type": "display_data",
          "data": {
            "text/html": [
              "<pre>Processing data in one pass using dense lookup tables.</pre>"
            ],
            "text/plain": [
              "Processing data in one pass using dense lookup tables."
            ]
          },
          "metadata": {
            "tags": []
          }
        },
        {
          "output_type": "display_data",
          "data": {
            "text/html": [
              "<pre>+-------------------------------------+------------------+-----------------+</pre>"
            ],
            "text/plain": [
              "+-------------------------------------+------------------+-----------------+"
            ]
          },
          "metadata": {
            "tags": []
          }
        },
        {
          "output_type": "display_data",
          "data": {
            "text/html": [
              "<pre>| Elapsed Time (Constructing Lookups) | Total % Complete | Items Processed |</pre>"
            ],
            "text/plain": [
              "| Elapsed Time (Constructing Lookups) | Total % Complete | Items Processed |"
            ]
          },
          "metadata": {
            "tags": []
          }
        },
        {
          "output_type": "display_data",
          "data": {
            "text/html": [
              "<pre>+-------------------------------------+------------------+-----------------+</pre>"
            ],
            "text/plain": [
              "+-------------------------------------+------------------+-----------------+"
            ]
          },
          "metadata": {
            "tags": []
          }
        },
        {
          "output_type": "display_data",
          "data": {
            "text/html": [
              "<pre>| 1.685ms                             | 0.75             | 3               |</pre>"
            ],
            "text/plain": [
              "| 1.685ms                             | 0.75             | 3               |"
            ]
          },
          "metadata": {
            "tags": []
          }
        },
        {
          "output_type": "display_data",
          "data": {
            "text/html": [
              "<pre>| 16.594ms                            | 100              | 495             |</pre>"
            ],
            "text/plain": [
              "| 16.594ms                            | 100              | 495             |"
            ]
          },
          "metadata": {
            "tags": []
          }
        },
        {
          "output_type": "display_data",
          "data": {
            "text/html": [
              "<pre>+-------------------------------------+------------------+-----------------+</pre>"
            ],
            "text/plain": [
              "+-------------------------------------+------------------+-----------------+"
            ]
          },
          "metadata": {
            "tags": []
          }
        },
        {
          "output_type": "display_data",
          "data": {
            "text/html": [
              "<pre>Finalizing lookup tables.</pre>"
            ],
            "text/plain": [
              "Finalizing lookup tables."
            ]
          },
          "metadata": {
            "tags": []
          }
        },
        {
          "output_type": "display_data",
          "data": {
            "text/html": [
              "<pre>Generating candidate set for working with new users.</pre>"
            ],
            "text/plain": [
              "Generating candidate set for working with new users."
            ]
          },
          "metadata": {
            "tags": []
          }
        },
        {
          "output_type": "display_data",
          "data": {
            "text/html": [
              "<pre>Finished training in 0.018649s</pre>"
            ],
            "text/plain": [
              "Finished training in 0.018649s"
            ]
          },
          "metadata": {
            "tags": []
          }
        },
        {
          "output_type": "stream",
          "text": [
            "+---------+--------------------------+---------------------+------+\n",
            "| user_id |         post_id          |        score        | rank |\n",
            "+---------+--------------------------+---------------------+------+\n",
            "|    1    | 5ec57acaf2781131cc7e51d5 |  0.2554840636253357 |  1   |\n",
            "|    1    | 5ec1fd0974f7660d73aa0fd5 |  0.2380655264854431 |  2   |\n",
            "|    1    | 5ec54fc9f2781131cc7e50f5 | 0.23015980124473573 |  3   |\n",
            "|    1    | 5ec7a8bdec493f4a26558846 | 0.22907609701156617 |  4   |\n",
            "|    1    | 5ec2215374f7660d73aa1011 | 0.22455269932746888 |  5   |\n",
            "|    1    | 5ec3c09274f7660d73aa1229 | 0.22090505361557006 |  6   |\n",
            "|    1    | 5ec8204cec493f4a26558893 | 0.22080119609832763 |  7   |\n",
            "|    1    | 5ec7a7a3ec493f4a26558840 | 0.21719491362571716 |  8   |\n",
            "|    1    | 5ecd5d417023451e662235c5 |  0.2166977369785309 |  9   |\n",
            "|    1    | 5ec821ddec493f4a2655889e | 0.20753011465072632 |  10  |\n",
            "|    2    | 5ec57acaf2781131cc7e51d5 |  0.2554840636253357 |  1   |\n",
            "|    2    | 5ec1fd0974f7660d73aa0fd5 |  0.2380655264854431 |  2   |\n",
            "|    2    | 5ec54fc9f2781131cc7e50f5 | 0.23015980124473573 |  3   |\n",
            "|    2    | 5ec7a8bdec493f4a26558846 | 0.22907609701156617 |  4   |\n",
            "|    2    | 5ec2215374f7660d73aa1011 | 0.22455269932746888 |  5   |\n",
            "|    2    | 5ec3c09274f7660d73aa1229 | 0.22090505361557006 |  6   |\n",
            "|    2    | 5ec8204cec493f4a26558893 | 0.22080119609832763 |  7   |\n",
            "|    2    | 5ec7a7a3ec493f4a26558840 | 0.21719491362571716 |  8   |\n",
            "|    2    | 5ecd5d417023451e662235c5 |  0.2166977369785309 |  9   |\n",
            "|    2    | 5ec821ddec493f4a2655889e | 0.20753011465072632 |  10  |\n",
            "|    3    | 5ec57acaf2781131cc7e51d5 |  0.2554840636253357 |  1   |\n",
            "|    3    | 5ec1fd0974f7660d73aa0fd5 |  0.2380655264854431 |  2   |\n",
            "|    3    | 5ec54fc9f2781131cc7e50f5 | 0.23015980124473573 |  3   |\n",
            "|    3    | 5ec7a8bdec493f4a26558846 | 0.22907609701156617 |  4   |\n",
            "|    3    | 5ec2215374f7660d73aa1011 | 0.22455269932746888 |  5   |\n",
            "|    3    | 5ec3c09274f7660d73aa1229 | 0.22090505361557006 |  6   |\n",
            "|    3    | 5ec8204cec493f4a26558893 | 0.22080119609832763 |  7   |\n",
            "|    3    | 5ec7a7a3ec493f4a26558840 | 0.21719491362571716 |  8   |\n",
            "|    3    | 5ecd5d417023451e662235c5 |  0.2166977369785309 |  9   |\n",
            "|    3    | 5ec821ddec493f4a2655889e | 0.20753011465072632 |  10  |\n",
            "|    4    | 5ec57acaf2781131cc7e51d5 |  0.2554840636253357 |  1   |\n",
            "|    4    | 5ec1fd0974f7660d73aa0fd5 |  0.2380655264854431 |  2   |\n",
            "|    4    | 5ec54fc9f2781131cc7e50f5 | 0.23015980124473573 |  3   |\n",
            "|    4    | 5ec7a8bdec493f4a26558846 | 0.22907609701156617 |  4   |\n",
            "|    4    | 5ec2215374f7660d73aa1011 | 0.22455269932746888 |  5   |\n",
            "|    4    | 5ec3c09274f7660d73aa1229 | 0.22090505361557006 |  6   |\n",
            "|    4    | 5ec8204cec493f4a26558893 | 0.22080119609832763 |  7   |\n",
            "|    4    | 5ec7a7a3ec493f4a26558840 | 0.21719491362571716 |  8   |\n",
            "|    4    | 5ecd5d417023451e662235c5 |  0.2166977369785309 |  9   |\n",
            "|    4    | 5ec821ddec493f4a2655889e | 0.20753011465072632 |  10  |\n",
            "|    5    | 5ec57acaf2781131cc7e51d5 |  0.2554840636253357 |  1   |\n",
            "|    5    | 5ec1fd0974f7660d73aa0fd5 |  0.2380655264854431 |  2   |\n",
            "|    5    | 5ec54fc9f2781131cc7e50f5 | 0.23015980124473573 |  3   |\n",
            "|    5    | 5ec7a8bdec493f4a26558846 | 0.22907609701156617 |  4   |\n",
            "|    5    | 5ec2215374f7660d73aa1011 | 0.22455269932746888 |  5   |\n",
            "|    5    | 5ec3c09274f7660d73aa1229 | 0.22090505361557006 |  6   |\n",
            "|    5    | 5ec8204cec493f4a26558893 | 0.22080119609832763 |  7   |\n",
            "|    5    | 5ec7a7a3ec493f4a26558840 | 0.21719491362571716 |  8   |\n",
            "|    5    | 5ecd5d417023451e662235c5 |  0.2166977369785309 |  9   |\n",
            "|    5    | 5ec821ddec493f4a2655889e | 0.20753011465072632 |  10  |\n",
            "+---------+--------------------------+---------------------+------+\n",
            "[100 rows x 4 columns]\n",
            "\n"
          ],
          "name": "stdout"
        }
      ]
    },
    {
      "cell_type": "code",
      "metadata": {
        "id": "Iy4OY0pGVKRD"
      },
      "source": [
        ""
      ],
      "execution_count": null,
      "outputs": []
    }
  ]
}